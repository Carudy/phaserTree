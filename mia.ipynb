{
 "cells": [
  {
   "cell_type": "code",
   "execution_count": 1,
   "metadata": {},
   "outputs": [],
   "source": [
    "from util import *\n",
    "\n",
    "from sklearn.metrics import confusion_matrix, recall_score, f1_score"
   ]
  },
  {
   "cell_type": "code",
   "execution_count": 2,
   "metadata": {},
   "outputs": [],
   "source": [
    "dname = 'madelon'"
   ]
  },
  {
   "cell_type": "code",
   "execution_count": 3,
   "metadata": {},
   "outputs": [
    {
     "data": {
      "text/plain": [
       "0.8533333333333334"
      ]
     },
     "execution_count": 3,
     "metadata": {},
     "output_type": "execute_result"
    }
   ],
   "source": [
    "ds = read_libsvm(dname)\n",
    "\n",
    "clf = cgb(verbose=False)\n",
    "clf.fit(ds[0], ds[1])\n",
    "clf.score(ds[2], ds[3])"
   ]
  },
  {
   "cell_type": "code",
   "execution_count": 4,
   "metadata": {},
   "outputs": [],
   "source": [
    "# shadow dataset\n",
    "\n",
    "x1 = [x for x in ds[0]]\n",
    "x2 = [x for x in ds[2]]\n",
    "xs = x1 + x2\n",
    "nf = len(xs[0])\n",
    "for x in xs:\n",
    "    for i in range(nf):\n",
    "        x[i] += np.random.laplace(0, 100)\n",
    "\n",
    "nn = len(xs) >> 1\n",
    "\n",
    "ys = [clf.predict(x) for x in xs]\n",
    "\n",
    "xt = xs[nn:]\n",
    "yt = xs[nn:]\n",
    "\n",
    "xs = xs[:nn]\n",
    "ys = ys[:nn]"
   ]
  },
  {
   "cell_type": "code",
   "execution_count": 5,
   "metadata": {},
   "outputs": [],
   "source": [
    "# shadow model & adv dataset\n",
    "\n",
    "nm = 16\n",
    "n = len(xs)\n",
    "j = 0\n",
    "l = n // nm\n",
    "\n",
    "xa = []\n",
    "ya = []\n",
    "\n",
    "sms = [cgb(verbose=False) for _ in range(nm)]\n",
    "for i in range(nm):\n",
    "    sms[i].fit(xs[j:j+l], ys[j:j+l])\n",
    "    for x in xs[j:j+l]:\n",
    "        xa.append(sms[i].predict_proba(x))\n",
    "        ya.append(1)\n",
    "    j += l\n",
    "\n",
    "for x in xt:\n",
    "    md = random.choice(sms)\n",
    "    xa.append(md.predict_proba(x))\n",
    "    ya.append(0)"
   ]
  },
  {
   "cell_type": "code",
   "execution_count": 6,
   "metadata": {},
   "outputs": [
    {
     "data": {
      "text/plain": [
       "<catboost.core.CatBoostClassifier at 0x1c6ffeff700>"
      ]
     },
     "execution_count": 6,
     "metadata": {},
     "output_type": "execute_result"
    }
   ],
   "source": [
    "# adv model\n",
    "amd = cgb(verbose=False)\n",
    "amd.fit(xa, ya)"
   ]
  },
  {
   "cell_type": "code",
   "execution_count": 12,
   "metadata": {},
   "outputs": [],
   "source": [
    "ds = read_libsvm(dname)\n",
    "\n",
    "xxs = [x for x in ds[0]]\n",
    "xxs = xxs[:len(ds[2])]\n",
    "yys = [1] * len(xxs)\n",
    "\n",
    "xxs += [x for x in ds[2]]\n",
    "yys += [0] * len(ds[2])\n",
    "\n",
    "dd = ds[0][:500]\n",
    "for x in dd:\n",
    "    for i in range(nf):\n",
    "        x[i] += np.random.laplace(0, 100)\n",
    "\n",
    "xxs += dd.tolist()\n",
    "yys += [0] * len(dd)"
   ]
  },
  {
   "cell_type": "code",
   "execution_count": 13,
   "metadata": {},
   "outputs": [],
   "source": [
    "def infer(md, tar, x):\n",
    "    p = tar.predict_proba(x)\n",
    "    return md.predict(p)"
   ]
  },
  {
   "cell_type": "code",
   "execution_count": 14,
   "metadata": {},
   "outputs": [],
   "source": [
    "pred = [infer(amd, clf, x) for x in xxs]"
   ]
  },
  {
   "cell_type": "code",
   "execution_count": 15,
   "metadata": {},
   "outputs": [
    {
     "data": {
      "text/plain": [
       "0.44680851063829785"
      ]
     },
     "execution_count": 15,
     "metadata": {},
     "output_type": "execute_result"
    }
   ],
   "source": [
    "mt = confusion_matrix(yys, pred)\n",
    "tp = mt[1][1]\n",
    "fp = mt[0][1]\n",
    "r = tp / fp\n",
    "r"
   ]
  },
  {
   "cell_type": "code",
   "execution_count": 16,
   "metadata": {},
   "outputs": [
    {
     "data": {
      "text/plain": [
       "(55.529411764705884, 0.47681818181818186, 0.25, 0.21)"
      ]
     },
     "execution_count": 16,
     "metadata": {},
     "output_type": "execute_result"
    }
   ],
   "source": [
    "accuracy_score(yys, pred) *100, roc_auc_score(yys, pred), f1_score(yys, pred), recall_score(yys, pred)"
   ]
  }
 ],
 "metadata": {
  "kernelspec": {
   "display_name": "base",
   "language": "python",
   "name": "python3"
  },
  "language_info": {
   "codemirror_mode": {
    "name": "ipython",
    "version": 3
   },
   "file_extension": ".py",
   "mimetype": "text/x-python",
   "name": "python",
   "nbconvert_exporter": "python",
   "pygments_lexer": "ipython3",
   "version": "3.9.13"
  },
  "orig_nbformat": 4,
  "vscode": {
   "interpreter": {
    "hash": "a0960dae7e37e0d3c1488585f93b9269cdd4ed4dfc9f995a276327a913018d41"
   }
  }
 },
 "nbformat": 4,
 "nbformat_minor": 2
}
