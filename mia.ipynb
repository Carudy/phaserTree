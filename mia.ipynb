{
 "cells": [
  {
   "cell_type": "code",
   "execution_count": 1,
   "metadata": {},
   "outputs": [],
   "source": [
    "from sklearn.metrics import confusion_matrix, recall_score, f1_score\n",
    "\n",
    "import sys\n",
    "sys.path.append(r\"D:\\work\\federated-boosted-dp-trees\")\n",
    "sys.path.append(r\"D:\\work\\phase_tree\")\n",
    "\n",
    "from util import *\n",
    "\n",
    "from federated_gbdt.models.gbdt.private_gbdt import PrivateGBDT\n",
    "from experiments.experiment_helpers.data_loader import DataLoader\n",
    "from sklearn.metrics import roc_auc_score\n",
    "from sklearn.datasets import load_svmlight_file\n",
    "from pathlib import Path\n",
    "import numpy as np\n",
    "import random\n",
    "from sklearn.model_selection import train_test_split"
   ]
  },
  {
   "cell_type": "code",
   "execution_count": 2,
   "metadata": {},
   "outputs": [
    {
     "data": {
      "text/plain": [
       "0.9636348366507097"
      ]
     },
     "execution_count": 2,
     "metadata": {},
     "output_type": "execute_result"
    }
   ],
   "source": [
    "dname = 'cod-rna'\n",
    "\n",
    "def get_dp_tr(dname):\n",
    "    ds = auto_read_dataset(dname)\n",
    "    dp_tr_model = PrivateGBDT(num_trees=100, epsilon=0.5, split_method=\"totally_random\", \n",
    "                            sketch_type=\"uniform\", dp_method=\"gaussian_cdp\")\n",
    "    dp_tr_model = dp_tr_model.fit(ds[0], ds[1])\n",
    "    return dp_tr_model\n",
    "\n",
    "ds = auto_read_dataset(dname)\n",
    "\n",
    "clf = cgb(verbose=False)\n",
    "clf.fit(ds[0], ds[1])\n",
    "clf.score(ds[2], ds[3])\n",
    "\n",
    "# clf = get_dp_tr(dname)"
   ]
  },
  {
   "cell_type": "code",
   "execution_count": 3,
   "metadata": {},
   "outputs": [],
   "source": [
    "# shadow dataset\n",
    "\n",
    "x1 = [x for x in ds[0]]\n",
    "x2 = [x for x in ds[2]]\n",
    "xs = x1 + x2\n",
    "nf = len(xs[0])\n",
    "for x in xs:\n",
    "    for i in range(nf):\n",
    "        x[i] += np.random.laplace(0, 100)\n",
    "\n",
    "nn = len(xs) >> 1\n",
    "\n",
    "# d4t\n",
    "# ys = [clf.predict(x) for x in xs]\n",
    "\n",
    "# dp-tr\n",
    "ys = clf.predict(np.array(xs))\n",
    "\n",
    "xt = xs[nn:]\n",
    "yt = xs[nn:]\n",
    "\n",
    "xs = xs[:nn]\n",
    "ys = ys[:nn]"
   ]
  },
  {
   "cell_type": "code",
   "execution_count": 4,
   "metadata": {},
   "outputs": [],
   "source": [
    "# shadow model & adv dataset\n",
    "\n",
    "nm = 16\n",
    "n = len(xs)\n",
    "j = 0\n",
    "l = n // nm\n",
    "\n",
    "xa = []\n",
    "ya = []\n",
    "\n",
    "sms = [cgb(verbose=False) for _ in range(nm)]\n",
    "for i in range(nm):\n",
    "    sms[i].fit(xs[j:j+l], ys[j:j+l])\n",
    "    for x in xs[j:j+l]:\n",
    "        xa.append(sms[i].predict_proba(x))\n",
    "        ya.append(1)\n",
    "    j += l\n",
    "\n",
    "for x in xt:\n",
    "    md = random.choice(sms)\n",
    "    xa.append(md.predict_proba(x))\n",
    "    ya.append(0)"
   ]
  },
  {
   "cell_type": "code",
   "execution_count": 5,
   "metadata": {},
   "outputs": [
    {
     "data": {
      "text/plain": [
       "<catboost.core.CatBoostClassifier at 0x216f939ef10>"
      ]
     },
     "execution_count": 5,
     "metadata": {},
     "output_type": "execute_result"
    }
   ],
   "source": [
    "# adv model\n",
    "amd = cgb(verbose=False)\n",
    "amd.fit(xa, ya)"
   ]
  },
  {
   "cell_type": "code",
   "execution_count": 6,
   "metadata": {},
   "outputs": [],
   "source": [
    "ds = auto_read_dataset(dname)\n",
    "\n",
    "xxs = [x for x in ds[0]]\n",
    "xxs = xxs[:len(ds[2])]\n",
    "yys = [1] * len(xxs)\n",
    "\n",
    "xxs += [x for x in ds[2]]\n",
    "yys += [0] * len(ds[2])\n",
    "\n",
    "dd = ds[0][:500]\n",
    "for x in dd:\n",
    "    for i in range(nf):\n",
    "        x[i] += np.random.laplace(0, 100)\n",
    "\n",
    "xxs += dd.tolist()\n",
    "yys += [0] * len(dd)"
   ]
  },
  {
   "cell_type": "code",
   "execution_count": 7,
   "metadata": {},
   "outputs": [],
   "source": [
    "def infer(md, tar, x):\n",
    "    p = tar.predict(x)\n",
    "    return md.predict(p)"
   ]
  },
  {
   "cell_type": "code",
   "execution_count": 8,
   "metadata": {},
   "outputs": [],
   "source": [
    "# pred = [infer(amd, clf, x) for x in np.array(xxs)]\n",
    "\n",
    "pred = amd.predict(clf.predict_proba(np.array(xxs)))"
   ]
  },
  {
   "cell_type": "code",
   "execution_count": 9,
   "metadata": {},
   "outputs": [
    {
     "data": {
      "text/plain": [
       "(49.64629431603191,\n",
       " 0.9523674510915793,\n",
       " 0.4978279585976726,\n",
       " 0.523229097706297,\n",
       " 0.5642059292852943)"
      ]
     },
     "execution_count": 9,
     "metadata": {},
     "output_type": "execute_result"
    }
   ],
   "source": [
    "# acc tp/fp auc f1 recall\n",
    "\n",
    "mt = confusion_matrix(yys, pred)\n",
    "tp = mt[1][1]\n",
    "fp = mt[0][1]\n",
    "r = tp / fp\n",
    "\n",
    "accuracy_score(yys, pred) *100, r, roc_auc_score(yys, pred), f1_score(yys, pred), recall_score(yys, pred)"
   ]
  }
 ],
 "metadata": {
  "kernelspec": {
   "display_name": "base",
   "language": "python",
   "name": "python3"
  },
  "language_info": {
   "codemirror_mode": {
    "name": "ipython",
    "version": 3
   },
   "file_extension": ".py",
   "mimetype": "text/x-python",
   "name": "python",
   "nbconvert_exporter": "python",
   "pygments_lexer": "ipython3",
   "version": "3.9.13"
  },
  "orig_nbformat": 4,
  "vscode": {
   "interpreter": {
    "hash": "a0960dae7e37e0d3c1488585f93b9269cdd4ed4dfc9f995a276327a913018d41"
   }
  }
 },
 "nbformat": 4,
 "nbformat_minor": 2
}
