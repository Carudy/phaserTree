{
 "cells": [
  {
   "cell_type": "code",
   "execution_count": 1,
   "metadata": {},
   "outputs": [],
   "source": [
    "from sklearn.datasets import load_svmlight_file\n",
    "from sklearn.tree import DecisionTreeClassifier\n",
    "from sklearn.ensemble import RandomForestClassifier\n",
    "from sklearn.ensemble import GradientBoostingClassifier\n",
    "from skmultiflow.trees import HoeffdingTreeClassifier\n",
    "\n",
    "from pathlib import Path\n",
    "import numpy as np\n",
    "import random\n",
    "from sklearn.model_selection import train_test_split"
   ]
  },
  {
   "cell_type": "code",
   "execution_count": 2,
   "metadata": {},
   "outputs": [],
   "source": [
    "DATA_PATH = Path('D://dataset')\n",
    "\n",
    "def read_libsvm(dname):\n",
    "    if (DATA_PATH / f'{dname}.txt').exists():\n",
    "        xs, ys = load_svmlight_file(str((DATA_PATH / f'{dname}.txt')))\n",
    "        xs, xs_t, ys, ys_t = train_test_split(xs.toarray(), ys, train_size=0.2)\n",
    "        return xs, ys, xs_t, ys_t\n",
    "    else:\n",
    "        dir = DATA_PATH / dname\n",
    "        xs, ys = load_svmlight_file(str(dir / f'{dname}.txt'))\n",
    "        xs_t, ys_t = load_svmlight_file(str(dir / f'{dname}.t'))\n",
    "        return xs.toarray(), ys, xs_t.toarray(), ys_t"
   ]
  },
  {
   "cell_type": "code",
   "execution_count": 3,
   "metadata": {},
   "outputs": [],
   "source": [
    "class Phaser:\n",
    "    def __init__(self, arr, p):\n",
    "        m = p * 0.5\n",
    "        # m = 0.1\n",
    "        self.mi = min(arr) - m\n",
    "        self.ma = max(arr) + m\n",
    "        self.p = p\n",
    "\n",
    "    def __call__(self, x):\n",
    "        x = x + self.p\n",
    "        if x > self.ma:\n",
    "            return x + self.mi - self.ma\n",
    "        elif x < self.mi:\n",
    "            return x + self.ma - self.mi\n",
    "        else:\n",
    "            return x\n",
    "\n",
    "def trans(ds, i):\n",
    "    A = [x[i] for x in ds[0]]\n",
    "    r = random.random() * 0.6 + 0.2\n",
    "    # r = 0.8\n",
    "    pa = Phaser(A, (max(A)-min(A)) * r)\n",
    "    for x in ds[0]:\n",
    "        x[i] = pa(x[i])\n",
    "    for x in ds[2]:\n",
    "        x[i] = pa(x[i])\n",
    "\n",
    "def test_md_ds(md, ds):\n",
    "    clf = md()\n",
    "    clf.fit(ds[0], ds[1])\n",
    "    if len(ds) == 2:\n",
    "        print(clf.score(ds[0], ds[1]))\n",
    "    else:\n",
    "        print(clf.score(ds[2], ds[3]))"
   ]
  },
  {
   "cell_type": "code",
   "execution_count": 4,
   "metadata": {},
   "outputs": [],
   "source": [
    "TargetModel = DecisionTreeClassifier\n",
    "TargetModel = RandomForestClassifier\n",
    "# TargetModel = GradientBoostingClassifier\n",
    "# TargetModel = HoeffdingTreeClassifier"
   ]
  },
  {
   "cell_type": "code",
   "execution_count": 8,
   "metadata": {},
   "outputs": [
    {
     "name": "stdout",
     "output_type": "stream",
     "text": [
      "0.9434156378600823\n",
      "0.938376585201982\n"
     ]
    }
   ],
   "source": [
    "ds = read_libsvm('cod-rna')\n",
    "test_md_ds(TargetModel, ds)\n",
    "\n",
    "nf = len(ds[0][0])\n",
    "for i in range(nf):\n",
    "    trans(ds, i)\n",
    "\n",
    "test_md_ds(TargetModel, ds)"
   ]
  }
 ],
 "metadata": {
  "kernelspec": {
   "display_name": "base",
   "language": "python",
   "name": "python3"
  },
  "language_info": {
   "codemirror_mode": {
    "name": "ipython",
    "version": 3
   },
   "file_extension": ".py",
   "mimetype": "text/x-python",
   "name": "python",
   "nbconvert_exporter": "python",
   "pygments_lexer": "ipython3",
   "version": "3.9.13"
  },
  "orig_nbformat": 4,
  "vscode": {
   "interpreter": {
    "hash": "a0960dae7e37e0d3c1488585f93b9269cdd4ed4dfc9f995a276327a913018d41"
   }
  }
 },
 "nbformat": 4,
 "nbformat_minor": 2
}
