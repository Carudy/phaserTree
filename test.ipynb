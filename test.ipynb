{
 "cells": [
  {
   "cell_type": "code",
   "execution_count": 1,
   "metadata": {},
   "outputs": [],
   "source": [
    "from util import *\n",
    "\n",
    "import numpy as np\n",
    "from scipy.interpolate import PchipInterpolator\n",
    "import matplotlib.pyplot as plt"
   ]
  },
  {
   "cell_type": "code",
   "execution_count": 2,
   "metadata": {},
   "outputs": [
    {
     "name": "stdout",
     "output_type": "stream",
     "text": [
      "n_piece: 2\n",
      "ENC: 99.938\n",
      "n_piece: 4\n",
      "ENC: 100.000\n",
      "n_piece: 6\n",
      "ENC: 100.000\n",
      "n_piece: 8\n",
      "ENC: 99.938\n",
      "n_piece: 10\n",
      "ENC: 100.000\n",
      "n_piece: 16\n",
      "ENC: 100.000\n",
      "n_piece: 19\n",
      "ENC: 100.000\n",
      "n_piece: 22\n",
      "ENC: 100.000\n",
      "n_piece: 25\n",
      "ENC: 100.000\n",
      "n_piece: 28\n",
      "ENC: 100.000\n",
      "[2, 4, 6, 8, 10, 16, 19, 22, 25, 28]\n",
      "[0.9993846153846154, 1.0, 1.0, 0.9993846153846154, 1.0, 1.0, 1.0, 1.0, 1.0, 1.0]\n"
     ]
    }
   ],
   "source": [
    "A = []\n",
    "ns = list(range(2, 12, 2)) + list(range(16, 30, 3))\n",
    "\n",
    "for n in ns:\n",
    "    print(f'n_piece: {n}')\n",
    "    ori, d4t = evalate(cgb, 'mushrooms', n_piece=n, only_enc=True)\n",
    "    A.append(d4t)\n",
    "\n",
    "print(ns)\n",
    "print(A)"
   ]
  },
  {
   "cell_type": "code",
   "execution_count": 3,
   "metadata": {},
   "outputs": [
    {
     "name": "stdout",
     "output_type": "stream",
     "text": [
      "iris\n",
      "Vanilla: 100.000\n",
      "ENC: 100.000\n",
      "\n",
      "mushrooms\n",
      "Vanilla: 100.000\n",
      "ENC: 100.000\n",
      "\n",
      "cod-rna\n",
      "Vanilla: 95.868\n",
      "ENC: 95.582\n",
      "\n",
      "covtype\n",
      "Vanilla: 95.573\n",
      "ENC: 95.445\n",
      "\n",
      "sensorless\n",
      "Vanilla: 99.838\n",
      "ENC: 99.863\n",
      "\n",
      "heart\n",
      "Vanilla: 87.037\n",
      "ENC: 83.333\n",
      "\n",
      "dna\n",
      "Vanilla: 94.266\n",
      "ENC: 94.519\n",
      "\n",
      "madelon\n",
      "Vanilla: 70.667\n",
      "ENC: 69.000\n",
      "\n"
     ]
    }
   ],
   "source": [
    "evalate_all(RandomForestClassifier)"
   ]
  },
  {
   "cell_type": "code",
   "execution_count": 3,
   "metadata": {},
   "outputs": [
    {
     "name": "stdout",
     "output_type": "stream",
     "text": [
      "cod-rna\n",
      "Vanilla: (depth: 28) 94.625\n",
      "ENC: (depth: 25) 94.759\n",
      "\n",
      "cod-rna\n",
      "Vanilla: (depth: 28) 94.281\n",
      "ENC: (depth: 26) 94.205\n",
      "\n",
      "cod-rna\n",
      "Vanilla: (depth: 27) 94.239\n",
      "ENC: (depth: 30) 94.381\n",
      "\n"
     ]
    }
   ],
   "source": [
    "for _ in range(3):\n",
    "    evalate_all(DecisionTreeClassifier, ['cod-rna'], n_piece=5)"
   ]
  },
  {
   "cell_type": "code",
   "execution_count": 35,
   "metadata": {},
   "outputs": [
    {
     "data": {
      "text/plain": [
       "14.333333333333334"
      ]
     },
     "execution_count": 35,
     "metadata": {},
     "output_type": "execute_result"
    }
   ],
   "source": [
    "a = [13, 15,15]\n",
    "sum(a) / len(a)"
   ]
  },
  {
   "cell_type": "code",
   "execution_count": 41,
   "metadata": {},
   "outputs": [
    {
     "data": {
      "text/plain": [
       "16.666666666666668"
      ]
     },
     "execution_count": 41,
     "metadata": {},
     "output_type": "execute_result"
    }
   ],
   "source": [
    "a = [17,17,16,17,17,16]\n",
    "sum(a) / len(a)"
   ]
  }
 ],
 "metadata": {
  "kernelspec": {
   "display_name": "base",
   "language": "python",
   "name": "python3"
  },
  "language_info": {
   "codemirror_mode": {
    "name": "ipython",
    "version": 3
   },
   "file_extension": ".py",
   "mimetype": "text/x-python",
   "name": "python",
   "nbconvert_exporter": "python",
   "pygments_lexer": "ipython3",
   "version": "3.9.13"
  },
  "orig_nbformat": 4,
  "vscode": {
   "interpreter": {
    "hash": "a0960dae7e37e0d3c1488585f93b9269cdd4ed4dfc9f995a276327a913018d41"
   }
  }
 },
 "nbformat": 4,
 "nbformat_minor": 2
}
