{
 "cells": [
  {
   "cell_type": "code",
   "execution_count": 1,
   "metadata": {},
   "outputs": [],
   "source": [
    "from util import *\n",
    "\n",
    "import numpy as np\n",
    "from scipy.interpolate import PchipInterpolator\n",
    "import matplotlib.pyplot as plt"
   ]
  },
  {
   "cell_type": "code",
   "execution_count": 7,
   "metadata": {},
   "outputs": [
    {
     "name": "stdout",
     "output_type": "stream",
     "text": [
      "n_piece: 2\n",
      "ENC: 96.313\n",
      "n_piece: 4\n",
      "ENC: 96.028\n",
      "n_piece: 6\n",
      "ENC: 95.616\n",
      "n_piece: 8\n",
      "ENC: 96.053\n",
      "n_piece: 10\n",
      "ENC: 95.574\n",
      "n_piece: 16\n",
      "ENC: 95.137\n",
      "n_piece: 19\n",
      "ENC: 95.288\n",
      "n_piece: 22\n",
      "ENC: 95.221\n",
      "n_piece: 25\n",
      "ENC: 94.449\n",
      "n_piece: 28\n",
      "ENC: 94.969\n",
      "[2, 4, 6, 8, 10, 16, 19, 22, 25, 28]\n",
      "[0.9631309313848997, 0.9602754682119762, 0.9561602418745276, 0.9605274208448812, 0.9557403208196859, 0.9513731418493323, 0.9528848576467625, 0.9522129839590157, 0.9444864365499286, 0.9496934576299656]\n"
     ]
    }
   ],
   "source": [
    "A = []\n",
    "ns = list(range(2, 12, 2)) + list(range(16, 30, 3))\n",
    "\n",
    "for n in ns:\n",
    "    print(f'n_piece: {n}')\n",
    "    ori, d4t = evalate(cgb, 'cod-rna', n_piece=n, only_enc=True)\n",
    "    A.append(d4t)\n",
    "\n",
    "print(ns)\n",
    "print(A)"
   ]
  },
  {
   "cell_type": "code",
   "execution_count": 3,
   "metadata": {},
   "outputs": [
    {
     "name": "stdout",
     "output_type": "stream",
     "text": [
      "iris\n",
      "Vanilla: 100.000\n",
      "ENC: 100.000\n",
      "\n",
      "mushrooms\n",
      "Vanilla: 100.000\n",
      "ENC: 100.000\n",
      "\n",
      "cod-rna\n",
      "Vanilla: 95.868\n",
      "ENC: 95.582\n",
      "\n",
      "covtype\n",
      "Vanilla: 95.573\n",
      "ENC: 95.445\n",
      "\n",
      "sensorless\n",
      "Vanilla: 99.838\n",
      "ENC: 99.863\n",
      "\n",
      "heart\n",
      "Vanilla: 87.037\n",
      "ENC: 83.333\n",
      "\n",
      "dna\n",
      "Vanilla: 94.266\n",
      "ENC: 94.519\n",
      "\n",
      "madelon\n",
      "Vanilla: 70.667\n",
      "ENC: 69.000\n",
      "\n"
     ]
    }
   ],
   "source": [
    "evalate_all(RandomForestClassifier)"
   ]
  },
  {
   "cell_type": "code",
   "execution_count": 4,
   "metadata": {},
   "outputs": [
    {
     "name": "stdout",
     "output_type": "stream",
     "text": [
      "mushrooms\n",
      "Vanilla: (depth: 6) 100.000\n",
      "ENC: (depth: 6) 100.000\n",
      "\n",
      "cod-rna\n",
      "Vanilla: (depth: 27) 94.482\n",
      "ENC: (depth: 26) 94.188\n",
      "\n",
      "heart\n",
      "Vanilla: (depth: 10) 64.815\n",
      "ENC: (depth: 11) 79.630\n",
      "\n"
     ]
    }
   ],
   "source": [
    "evalate_all(DecisionTreeClassifier, ['mushrooms', 'cod-rna', 'heart'])"
   ]
  },
  {
   "cell_type": "code",
   "execution_count": 5,
   "metadata": {},
   "outputs": [
    {
     "data": {
      "text/plain": [
       "XGBRegressor(base_score=None, booster=None, callbacks=None,\n",
       "             colsample_bylevel=None, colsample_bynode=None,\n",
       "             colsample_bytree=None, early_stopping_rounds=None,\n",
       "             enable_categorical=False, eval_metric=None, feature_types=None,\n",
       "             gamma=None, gpu_id=None, grow_policy=None, importance_type=None,\n",
       "             interaction_constraints=None, learning_rate=None, max_bin=None,\n",
       "             max_cat_threshold=None, max_cat_to_onehot=None,\n",
       "             max_delta_step=None, max_depth=None, max_leaves=None,\n",
       "             min_child_weight=None, missing=nan, monotone_constraints=None,\n",
       "             n_estimators=100, n_jobs=None, num_parallel_tree=None,\n",
       "             predictor=None, random_state=None, ...)"
      ]
     },
     "execution_count": 5,
     "metadata": {},
     "output_type": "execute_result"
    }
   ],
   "source": [
    "ds = auto_read_dataset('mushrooms')\n",
    "clf = xgb.XGBRegressor(tree_method=\"gpu_hist\")\n",
    "clf.fit(ds[0], ds[1])"
   ]
  },
  {
   "cell_type": "code",
   "execution_count": 7,
   "metadata": {},
   "outputs": [
    {
     "data": {
      "text/plain": [
       "{'objective': 'reg:squarederror',\n",
       " 'base_score': None,\n",
       " 'booster': None,\n",
       " 'callbacks': None,\n",
       " 'colsample_bylevel': None,\n",
       " 'colsample_bynode': None,\n",
       " 'colsample_bytree': None,\n",
       " 'early_stopping_rounds': None,\n",
       " 'enable_categorical': False,\n",
       " 'eval_metric': None,\n",
       " 'feature_types': None,\n",
       " 'gamma': None,\n",
       " 'gpu_id': None,\n",
       " 'grow_policy': None,\n",
       " 'importance_type': None,\n",
       " 'interaction_constraints': None,\n",
       " 'learning_rate': None,\n",
       " 'max_bin': None,\n",
       " 'max_cat_threshold': None,\n",
       " 'max_cat_to_onehot': None,\n",
       " 'max_delta_step': None,\n",
       " 'max_depth': None,\n",
       " 'max_leaves': None,\n",
       " 'min_child_weight': None,\n",
       " 'missing': nan,\n",
       " 'monotone_constraints': None,\n",
       " 'n_estimators': 100,\n",
       " 'n_jobs': None,\n",
       " 'num_parallel_tree': None,\n",
       " 'predictor': None,\n",
       " 'random_state': None,\n",
       " 'reg_alpha': None,\n",
       " 'reg_lambda': None,\n",
       " 'sampling_method': None,\n",
       " 'scale_pos_weight': None,\n",
       " 'subsample': None,\n",
       " 'tree_method': 'gpu_hist',\n",
       " 'validate_parameters': None,\n",
       " 'verbosity': None}"
      ]
     },
     "execution_count": 7,
     "metadata": {},
     "output_type": "execute_result"
    }
   ],
   "source": [
    "clf.get"
   ]
  }
 ],
 "metadata": {
  "kernelspec": {
   "display_name": "base",
   "language": "python",
   "name": "python3"
  },
  "language_info": {
   "codemirror_mode": {
    "name": "ipython",
    "version": 3
   },
   "file_extension": ".py",
   "mimetype": "text/x-python",
   "name": "python",
   "nbconvert_exporter": "python",
   "pygments_lexer": "ipython3",
   "version": "3.9.13"
  },
  "orig_nbformat": 4,
  "vscode": {
   "interpreter": {
    "hash": "a0960dae7e37e0d3c1488585f93b9269cdd4ed4dfc9f995a276327a913018d41"
   }
  }
 },
 "nbformat": 4,
 "nbformat_minor": 2
}
