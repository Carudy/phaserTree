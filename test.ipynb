{
 "cells": [
  {
   "cell_type": "code",
   "execution_count": 1,
   "metadata": {},
   "outputs": [],
   "source": [
    "from util import *"
   ]
  },
  {
   "cell_type": "code",
   "execution_count": 2,
   "metadata": {},
   "outputs": [],
   "source": [
    "TargetModel = DecisionTreeClassifier\n",
    "TargetModel = RandomForestClassifier\n",
    "TargetModel = GradientBoostingClassifier\n",
    "TargetModel = xgb\n",
    "TargetModel = lgb\n",
    "TargetModel = cgb\n",
    "TargetModel = vfdt\n",
    "TargetModel = efdt"
   ]
  },
  {
   "cell_type": "code",
   "execution_count": null,
   "metadata": {},
   "outputs": [],
   "source": [
    "evalate_all(efdt, ['cod-rna'])"
   ]
  },
  {
   "cell_type": "code",
   "execution_count": 16,
   "metadata": {},
   "outputs": [
    {
     "name": "stdout",
     "output_type": "stream",
     "text": [
      "154.440\n"
     ]
    }
   ],
   "source": [
    "# time\n",
    "\n",
    "# ds = read_libsvm('mushrooms')\n",
    "\n",
    "# import time\n",
    "\n",
    "# st = time.time()\n",
    "\n",
    "# clf = xgb.XGBRegressor(tree_method=\"gpu_hist\")\n",
    "# clf.fit(ds[0][:1000], ds[1][:1000])\n",
    "\n",
    "# ed = time.time()\n",
    "\n",
    "# print(f'{(ed-st)*1000:.3f}')"
   ]
  }
 ],
 "metadata": {
  "kernelspec": {
   "display_name": "base",
   "language": "python",
   "name": "python3"
  },
  "language_info": {
   "codemirror_mode": {
    "name": "ipython",
    "version": 3
   },
   "file_extension": ".py",
   "mimetype": "text/x-python",
   "name": "python",
   "nbconvert_exporter": "python",
   "pygments_lexer": "ipython3",
   "version": "3.9.13"
  },
  "orig_nbformat": 4,
  "vscode": {
   "interpreter": {
    "hash": "a0960dae7e37e0d3c1488585f93b9269cdd4ed4dfc9f995a276327a913018d41"
   }
  }
 },
 "nbformat": 4,
 "nbformat_minor": 2
}
