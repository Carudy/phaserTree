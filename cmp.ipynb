{
 "cells": [
  {
   "cell_type": "code",
   "execution_count": 2,
   "metadata": {},
   "outputs": [],
   "source": [
    "from autodp.mechanism_zoo import ExactGaussianMechanism, PureDP_Mechanism\n",
    "from autodp.transformer_zoo import Composition\n",
    "import matplotlib.pyplot as plt\n",
    "from sklearn.datasets import load_svmlight_file\n",
    "\n",
    "import time\n",
    "import random\n",
    "import numpy as np\n",
    "from pathlib import Path\n",
    "from phe import paillier\n",
    "\n",
    "from util import  *"
   ]
  },
  {
   "cell_type": "code",
   "execution_count": 107,
   "metadata": {},
   "outputs": [],
   "source": [
    "class OPE:\n",
    "    def __init__(self):\n",
    "        self.a = random.randint(1, 1<<16)\n",
    "        self.b = random.randint(1, 1<<16)\n",
    "        self.c = random.randint(1, 1<<16)\n",
    "\n",
    "    def __call__(self, x):\n",
    "        res = self.a * (x - self.c) ** 3 + self.b\n",
    "        if x >= self.c:\n",
    "            return res\n",
    "        return 2 * self.b - res\n",
    "        return 1.5 * x + 2"
   ]
  },
  {
   "cell_type": "code",
   "execution_count": 113,
   "metadata": {},
   "outputs": [],
   "source": [
    "sigma1 = 5.0\n",
    "sigma2 = 8.0\n",
    "\n",
    "gm1 = ExactGaussianMechanism(sigma1,name='GM1')\n",
    "\n",
    "compose = Composition()\n",
    "composed_mech = compose([gm1], [3])\n",
    "\n",
    "delta1 = 1e-4"
   ]
  },
  {
   "cell_type": "code",
   "execution_count": 126,
   "metadata": {},
   "outputs": [],
   "source": [
    "# ds = read_libsvm('dna')\n",
    "# xs = [i[0] for i in ds[0]]\n",
    "xs = np.random.uniform(-10000, 10000, 1000)"
   ]
  },
  {
   "cell_type": "code",
   "execution_count": 124,
   "metadata": {},
   "outputs": [
    {
     "name": "stdout",
     "output_type": "stream",
     "text": [
      "1609.018\n"
     ]
    }
   ],
   "source": [
    "# DP\n",
    "\n",
    "st = time.time()\n",
    "\n",
    "for x in xs:\n",
    "    eps1 = composed_mech.get_approxDP(delta1)\n",
    "    x += eps1\n",
    "\n",
    "ed = time.time()\n",
    "\n",
    "print(f'{(ed-st)*1000:.3f}')"
   ]
  },
  {
   "cell_type": "code",
   "execution_count": 125,
   "metadata": {},
   "outputs": [
    {
     "name": "stdout",
     "output_type": "stream",
     "text": [
      "12.006\n"
     ]
    }
   ],
   "source": [
    "# Phaser\n",
    "\n",
    "st = time.time()\n",
    "\n",
    "pa = Phaser(xs, (max(xs)-min(xs)) * 0.5)\n",
    "ope = OPE()\n",
    "sorted(xs)\n",
    "for x in xs:\n",
    "    x = ope(pa(x))\n",
    "\n",
    "ed = time.time()\n",
    "\n",
    "print(f'{(ed-st)*1000:.3f}')"
   ]
  },
  {
   "cell_type": "code",
   "execution_count": 128,
   "metadata": {},
   "outputs": [
    {
     "name": "stdout",
     "output_type": "stream",
     "text": [
      "185922.755\n"
     ]
    }
   ],
   "source": [
    "# HE\n",
    "\n",
    "st = time.time()\n",
    "\n",
    "pk, sk = paillier.generate_paillier_keypair()\n",
    "for x in xs:\n",
    "    _x = pk.encrypt(x)\n",
    "\n",
    "ed = time.time()\n",
    "\n",
    "print(f'{(ed-st)*1000:.3f}')"
   ]
  }
 ],
 "metadata": {
  "kernelspec": {
   "display_name": "base",
   "language": "python",
   "name": "python3"
  },
  "language_info": {
   "codemirror_mode": {
    "name": "ipython",
    "version": 3
   },
   "file_extension": ".py",
   "mimetype": "text/x-python",
   "name": "python",
   "nbconvert_exporter": "python",
   "pygments_lexer": "ipython3",
   "version": "3.9.13"
  },
  "orig_nbformat": 4,
  "vscode": {
   "interpreter": {
    "hash": "a0960dae7e37e0d3c1488585f93b9269cdd4ed4dfc9f995a276327a913018d41"
   }
  }
 },
 "nbformat": 4,
 "nbformat_minor": 2
}
