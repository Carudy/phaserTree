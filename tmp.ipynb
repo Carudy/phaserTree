{
 "cells": [
  {
   "cell_type": "code",
   "execution_count": 2,
   "metadata": {},
   "outputs": [],
   "source": [
    "from util import *"
   ]
  },
  {
   "cell_type": "code",
   "execution_count": 8,
   "metadata": {},
   "outputs": [
    {
     "name": "stdout",
     "output_type": "stream",
     "text": [
      "n_piece: 2\n",
      "ENC: 83.300\n",
      "n_piece: 4\n",
      "ENC: 83.852\n",
      "n_piece: 6\n",
      "ENC: 84.479\n",
      "n_piece: 8\n",
      "ENC: 84.356\n",
      "n_piece: 10\n",
      "ENC: 84.049\n",
      "n_piece: 16\n",
      "ENC: 84.479\n",
      "n_piece: 19\n",
      "ENC: 84.626\n",
      "n_piece: 22\n",
      "ENC: 87.194\n",
      "n_piece: 25\n",
      "ENC: 87.237\n",
      "n_piece: 28\n",
      "ENC: 84.166\n",
      "[2, 4, 6, 8, 10, 16, 19, 22, 25, 28]\n",
      "[0.8329955162459308, 0.838523432221608, 0.8447884036607088, 0.8435599778883361, 0.8404889134574043, 0.8447884036607088, 0.8462625145875561, 0.8719366132301456, 0.872366562250476, 0.8416559179411585]\n"
     ]
    }
   ],
   "source": [
    "A = []\n",
    "ns = list(range(2, 12, 2)) + list(range(16, 30, 3))\n",
    "\n",
    "for n in ns:\n",
    "    print(f'n_piece: {n}')\n",
    "    ori, d4t = evalate(cgb, 'adult', n_piece=n, only_enc=True)\n",
    "    A.append(d4t)\n",
    "\n",
    "print(ns)\n",
    "print(A)"
   ]
  }
 ],
 "metadata": {
  "kernelspec": {
   "display_name": "base",
   "language": "python",
   "name": "python3"
  },
  "language_info": {
   "codemirror_mode": {
    "name": "ipython",
    "version": 3
   },
   "file_extension": ".py",
   "mimetype": "text/x-python",
   "name": "python",
   "nbconvert_exporter": "python",
   "pygments_lexer": "ipython3",
   "version": "3.9.13"
  },
  "orig_nbformat": 4
 },
 "nbformat": 4,
 "nbformat_minor": 2
}
