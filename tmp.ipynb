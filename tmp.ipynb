{
 "cells": [
  {
   "cell_type": "code",
   "execution_count": 2,
   "metadata": {},
   "outputs": [],
   "source": [
    "from util import *"
   ]
  },
  {
   "cell_type": "code",
   "execution_count": 3,
   "metadata": {},
   "outputs": [
    {
     "name": "stdout",
     "output_type": "stream",
     "text": [
      "n_piece: 2\n",
      "ENC: 99.889\n",
      "n_piece: 4\n",
      "ENC: 99.872\n",
      "n_piece: 6\n",
      "ENC: 99.880\n",
      "n_piece: 8\n",
      "ENC: 99.838\n",
      "n_piece: 10\n",
      "ENC: 99.889\n",
      "n_piece: 16\n",
      "ENC: 99.897\n",
      "n_piece: 19\n",
      "ENC: "
     ]
    }
   ],
   "source": [
    "A = []\n",
    "ns = list(range(2, 12, 2)) + list(range(16, 30, 3))\n",
    "\n",
    "for n in ns:\n",
    "    print(f'n_piece: {n}')\n",
    "    ori, d4t = evalate(cgb, 'sensorless', n_piece=n, only_enc=True)\n",
    "    A.append(d4t)\n",
    "\n",
    "print(ns)\n",
    "print(A)"
   ]
  }
 ],
 "metadata": {
  "kernelspec": {
   "display_name": "base",
   "language": "python",
   "name": "python3"
  },
  "language_info": {
   "codemirror_mode": {
    "name": "ipython",
    "version": 3
   },
   "file_extension": ".py",
   "mimetype": "text/x-python",
   "name": "python",
   "nbconvert_exporter": "python",
   "pygments_lexer": "ipython3",
   "version": "3.9.13"
  },
  "orig_nbformat": 4
 },
 "nbformat": 4,
 "nbformat_minor": 2
}
