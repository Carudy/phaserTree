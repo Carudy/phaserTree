{
 "cells": [
  {
   "cell_type": "code",
   "execution_count": 1,
   "metadata": {},
   "outputs": [],
   "source": [
    "import seaborn as sns\n",
    "import numpy as np\n",
    "import random\n",
    "import matplotlib.pyplot as plt"
   ]
  },
  {
   "cell_type": "code",
   "execution_count": 2,
   "metadata": {},
   "outputs": [],
   "source": [
    "class Phaser:\n",
    "    def __init__(self, arr, p):\n",
    "        # m = p * 0.5\n",
    "        m = 0.01\n",
    "        self.mi = min(arr) - m\n",
    "        self.ma = max(arr) + m\n",
    "        self.p = p\n",
    "\n",
    "    def __call__(self, x):\n",
    "        x = x + self.p\n",
    "        if x > self.ma:\n",
    "            return x + self.mi - self.ma\n",
    "        elif x < self.mi:\n",
    "            return x + self.ma - self.mi\n",
    "        else:\n",
    "            return x"
   ]
  },
  {
   "cell_type": "code",
   "execution_count": 17,
   "metadata": {},
   "outputs": [],
   "source": [
    "sns.set(font_scale=1.5)\n",
    "xs = np.random.normal(size=3000)\n",
    "\n",
    "fig = sns.displot(xs, kind=\"kde\")\n",
    "fig.set_axis_labels('$X$')\n",
    "fig.savefig(r'D:\\work\\phase_tree/dis1.pdf')\n",
    "\n",
    "pa = Phaser(xs, (max(xs)-min(xs)) * 0.5)\n",
    "xx = [pa(x) for x in xs]\n",
    "\n",
    "fig = sns.displot(xx, kind=\"kde\")\n",
    "fig.set_axis_labels('$X$')\n",
    "fig.savefig(r'D:\\work\\phase_tree/dis2.pdf')"
   ]
  },
  {
   "cell_type": "code",
   "execution_count": 22,
   "metadata": {},
   "outputs": [],
   "source": [
    "\n",
    "sns.set(font_scale=1.5)\n",
    "\n",
    "xs = np.random.uniform(-1, 1, 3000)\n",
    "l = min(xs)\n",
    "r = max(xs)\n",
    "t = random.choice(range(len(xs)))\n",
    "\n",
    "\n",
    "fig = sns.displot(xs, kind=\"kde\")\n",
    "fig.set_axis_labels('$X$')\n",
    "\n",
    "plt.axvline(xs[t], color='red', linestyle='--')\n",
    "plt.text(xs[t]+0.05, 0.45, f'$X$=$t$')\n",
    "plt.axvline(l, color='gold', linestyle='--')\n",
    "plt.text(l+0.05, 0.45, f'$X$=$l$')\n",
    "plt.axvline(r, color='green', linestyle='--')\n",
    "plt.text(r+0.05, 0.45, f'$X$=$r$')\n",
    "\n",
    "fig.savefig(r'D:\\work\\phase_tree/dis3.pdf')\n",
    "\n",
    "pa = Phaser(xs, (max(xs)-min(xs)) * 0.33)\n",
    "xx = [pa(x) for x in xs]\n",
    "\n",
    "fig = sns.displot(xx, kind=\"kde\")\n",
    "fig.set_axis_labels('$X$')\n",
    "\n",
    "plt.axvline(xx[t], color='red', linestyle='--')\n",
    "plt.text(xx[t]+0.02, 0.35, f'$X$=$t^\\prime$')\n",
    "\n",
    "plt.axvline(l, color='gold', linestyle='--')\n",
    "plt.text(l-0.25, 0.45, f'$X$=$l$')\n",
    "\n",
    "plt.axvline(pa(l), color='purple', linestyle='--')\n",
    "plt.text(pa(l)+0.05, 0.45, f'$X$=$l^\\prime$')\n",
    "\n",
    "plt.axvline(r, color='green', linestyle='--')\n",
    "plt.text(r+0.05, 0.45, f'$X$=$r$')\n",
    "\n",
    "fig.savefig(r'D:\\work\\phase_tree/dis4.pdf')"
   ]
  }
 ],
 "metadata": {
  "kernelspec": {
   "display_name": "base",
   "language": "python",
   "name": "python3"
  },
  "language_info": {
   "codemirror_mode": {
    "name": "ipython",
    "version": 3
   },
   "file_extension": ".py",
   "mimetype": "text/x-python",
   "name": "python",
   "nbconvert_exporter": "python",
   "pygments_lexer": "ipython3",
   "version": "3.9.13"
  },
  "orig_nbformat": 4,
  "vscode": {
   "interpreter": {
    "hash": "a0960dae7e37e0d3c1488585f93b9269cdd4ed4dfc9f995a276327a913018d41"
   }
  }
 },
 "nbformat": 4,
 "nbformat_minor": 2
}
